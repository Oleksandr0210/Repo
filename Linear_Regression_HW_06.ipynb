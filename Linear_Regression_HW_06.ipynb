{
 "cells": [
  {
   "cell_type": "code",
   "execution_count": 1,
   "id": "8357fad9-541c-4890-bb11-b91893e78287",
   "metadata": {},
   "outputs": [],
   "source": [
    "import numpy as np\n",
    "import pandas as pd\n",
    "from sklearn.linear_model import LinearRegression\n",
    "from sklearn.metrics import mean_squared_error"
   ]
  },
  {
   "cell_type": "code",
   "execution_count": 2,
   "id": "8e80dd24-69a7-4d35-8573-8fd52bae1654",
   "metadata": {},
   "outputs": [],
   "source": [
    "def hypothesis(X, w):\n",
    "    \"\"\"\n",
    "    Гіпотеза лінійної регресії\n",
    "    X: матриця ознак (розмірності n_samples x n_features)\n",
    "    w: вектор параметрів (розмірності n_features x 1)\n",
    "    \"\"\"\n",
    "    return np.dot(X, w)\n",
    "    "
   ]
  },
  {
   "cell_type": "code",
   "execution_count": 3,
   "id": "3b7bd553-7899-4078-971d-f6d6aad8f3e4",
   "metadata": {},
   "outputs": [],
   "source": [
    "def loss_function(X, y, w):\n",
    "    \"\"\"\n",
    "    Обчислює функцію втрат MSE\n",
    "    X: матриця ознак\n",
    "    y: вектор цільової змінної\n",
    "    w: вектор параметрів\n",
    "    \"\"\"\n",
    "    m = X.shape[0]\n",
    "    errors = hypothesis(X, w) - y\n",
    "    return (1 / (2 * m)) * np.sum(errors ** 2)\n"
   ]
  },
  {
   "cell_type": "code",
   "execution_count": 4,
   "id": "1d4090d2-73b0-4ca4-a2c9-af0fcd94f794",
   "metadata": {},
   "outputs": [],
   "source": [
    "def gradient_step(X, y, w, alpha):\n",
    "    \"\"\"\n",
    "    Виконує один крок градієнтного спуску\n",
    "    X: матриця ознак\n",
    "    y: вектор цільової змінної\n",
    "    w: вектор параметрів\n",
    "    alpha: швидкість навчання\n",
    "    \"\"\"\n",
    "    m = X.shape[0]\n",
    "    errors = hypothesis(X, w) - y\n",
    "    gradient = (1 / m) * np.dot(X.T, errors)\n",
    "    return w - alpha * gradient\n"
   ]
  },
  {
   "cell_type": "code",
   "execution_count": 5,
   "id": "0ae1e9a1-b9d2-49be-8c48-957e797808e5",
   "metadata": {},
   "outputs": [],
   "source": [
    "def gradient_descent(X, y, alpha=0.01, epochs=1000):\n",
    "    \"\"\"\n",
    "    Реалізація градієнтного спуску\n",
    "    X: матриця ознак\n",
    "    y: вектор цільової змінної\n",
    "    alpha: швидкість навчання\n",
    "    epochs: кількість ітерацій\n",
    "    \"\"\"\n",
    "    X = np.c_[np.ones(X.shape[0]), X]\n",
    "    \n",
    "    w = np.zeros(X.shape[1])\n",
    "    \n",
    "    losses = []\n",
    "    \n",
    "    for i in range(epochs):\n",
    "        w = gradient_step(X, y, w, alpha)\n",
    "        loss = loss_function(X, y, w)\n",
    "        losses.append(loss)\n",
    "    \n",
    "    return w, losses\n"
   ]
  },
  {
   "cell_type": "code",
   "execution_count": 6,
   "id": "dcf790d8-7389-4b9f-99d2-4a9a02a004ae",
   "metadata": {},
   "outputs": [],
   "source": [
    "def analytical_solution(X, y):\n",
    "    \"\"\"\n",
    "    Знаходить оптимальні параметри за аналітичним розв'язком\n",
    "    X: матриця ознак\n",
    "    y: вектор цільової змінної\n",
    "    \"\"\"\n",
    "    X = np.c_[np.ones(X.shape[0]), X]\n",
    "    return np.linalg.inv(X.T @ X) @ X.T @ y\n"
   ]
  },
  {
   "cell_type": "code",
   "execution_count": 7,
   "id": "54d1a03c-abd3-4e93-a67c-ee1e957d6e5d",
   "metadata": {},
   "outputs": [
    {
     "name": "stderr",
     "output_type": "stream",
     "text": [
      "C:\\Users\\Lenovo\\AppData\\Local\\Temp\\ipykernel_15508\\2938063651.py:10: RuntimeWarning: overflow encountered in square\n",
      "  return (1 / (2 * m)) * np.sum(errors ** 2)\n",
      "C:\\Users\\Lenovo\\AppData\\Local\\Temp\\ipykernel_15508\\4137681161.py:12: RuntimeWarning: invalid value encountered in subtract\n",
      "  return w - alpha * gradient\n"
     ]
    },
    {
     "name": "stdout",
     "output_type": "stream",
     "text": [
      "Параметри, знайдені градієнтним спуском: [nan nan nan nan]\n"
     ]
    },
    {
     "ename": "LinAlgError",
     "evalue": "Singular matrix",
     "output_type": "error",
     "traceback": [
      "\u001b[1;31m---------------------------------------------------------------------------\u001b[0m",
      "\u001b[1;31mLinAlgError\u001b[0m                               Traceback (most recent call last)",
      "Cell \u001b[1;32mIn[7], line 18\u001b[0m\n\u001b[0;32m     14\u001b[0m w_grad_desc, losses \u001b[38;5;241m=\u001b[39m gradient_descent(X, y, alpha, epochs)\n\u001b[0;32m     16\u001b[0m \u001b[38;5;28mprint\u001b[39m(\u001b[38;5;124m\"\u001b[39m\u001b[38;5;124mПараметри, знайдені градієнтним спуском:\u001b[39m\u001b[38;5;124m\"\u001b[39m, w_grad_desc)\n\u001b[1;32m---> 18\u001b[0m w_analytical \u001b[38;5;241m=\u001b[39m \u001b[43manalytical_solution\u001b[49m\u001b[43m(\u001b[49m\u001b[43mX\u001b[49m\u001b[43m,\u001b[49m\u001b[43m \u001b[49m\u001b[43my\u001b[49m\u001b[43m)\u001b[49m\n\u001b[0;32m     19\u001b[0m \u001b[38;5;28mprint\u001b[39m(\u001b[38;5;124m\"\u001b[39m\u001b[38;5;124mПараметри, знайдені аналітичним рішенням:\u001b[39m\u001b[38;5;124m\"\u001b[39m, w_analytical)\n\u001b[0;32m     21\u001b[0m model \u001b[38;5;241m=\u001b[39m LinearRegression()\n",
      "Cell \u001b[1;32mIn[6], line 8\u001b[0m, in \u001b[0;36manalytical_solution\u001b[1;34m(X, y)\u001b[0m\n\u001b[0;32m      2\u001b[0m \u001b[38;5;250m\u001b[39m\u001b[38;5;124;03m\"\"\"\u001b[39;00m\n\u001b[0;32m      3\u001b[0m \u001b[38;5;124;03mЗнаходить оптимальні параметри за аналітичним розв'язком\u001b[39;00m\n\u001b[0;32m      4\u001b[0m \u001b[38;5;124;03mX: матриця ознак\u001b[39;00m\n\u001b[0;32m      5\u001b[0m \u001b[38;5;124;03my: вектор цільової змінної\u001b[39;00m\n\u001b[0;32m      6\u001b[0m \u001b[38;5;124;03m\"\"\"\u001b[39;00m\n\u001b[0;32m      7\u001b[0m X \u001b[38;5;241m=\u001b[39m np\u001b[38;5;241m.\u001b[39mc_[np\u001b[38;5;241m.\u001b[39mones(X\u001b[38;5;241m.\u001b[39mshape[\u001b[38;5;241m0\u001b[39m]), X]\n\u001b[1;32m----> 8\u001b[0m \u001b[38;5;28;01mreturn\u001b[39;00m \u001b[43mnp\u001b[49m\u001b[38;5;241;43m.\u001b[39;49m\u001b[43mlinalg\u001b[49m\u001b[38;5;241;43m.\u001b[39;49m\u001b[43minv\u001b[49m\u001b[43m(\u001b[49m\u001b[43mX\u001b[49m\u001b[38;5;241;43m.\u001b[39;49m\u001b[43mT\u001b[49m\u001b[43m \u001b[49m\u001b[38;5;241;43m@\u001b[39;49m\u001b[43m \u001b[49m\u001b[43mX\u001b[49m\u001b[43m)\u001b[49m \u001b[38;5;241m@\u001b[39m X\u001b[38;5;241m.\u001b[39mT \u001b[38;5;241m@\u001b[39m y\n",
      "File \u001b[1;32m~\\AppData\\Local\\Programs\\Python\\Python312\\Lib\\site-packages\\numpy\\linalg\\_linalg.py:615\u001b[0m, in \u001b[0;36minv\u001b[1;34m(a)\u001b[0m\n\u001b[0;32m    612\u001b[0m signature \u001b[38;5;241m=\u001b[39m \u001b[38;5;124m'\u001b[39m\u001b[38;5;124mD->D\u001b[39m\u001b[38;5;124m'\u001b[39m \u001b[38;5;28;01mif\u001b[39;00m isComplexType(t) \u001b[38;5;28;01melse\u001b[39;00m \u001b[38;5;124m'\u001b[39m\u001b[38;5;124md->d\u001b[39m\u001b[38;5;124m'\u001b[39m\n\u001b[0;32m    613\u001b[0m \u001b[38;5;28;01mwith\u001b[39;00m errstate(call\u001b[38;5;241m=\u001b[39m_raise_linalgerror_singular, invalid\u001b[38;5;241m=\u001b[39m\u001b[38;5;124m'\u001b[39m\u001b[38;5;124mcall\u001b[39m\u001b[38;5;124m'\u001b[39m,\n\u001b[0;32m    614\u001b[0m               over\u001b[38;5;241m=\u001b[39m\u001b[38;5;124m'\u001b[39m\u001b[38;5;124mignore\u001b[39m\u001b[38;5;124m'\u001b[39m, divide\u001b[38;5;241m=\u001b[39m\u001b[38;5;124m'\u001b[39m\u001b[38;5;124mignore\u001b[39m\u001b[38;5;124m'\u001b[39m, under\u001b[38;5;241m=\u001b[39m\u001b[38;5;124m'\u001b[39m\u001b[38;5;124mignore\u001b[39m\u001b[38;5;124m'\u001b[39m):\n\u001b[1;32m--> 615\u001b[0m     ainv \u001b[38;5;241m=\u001b[39m \u001b[43m_umath_linalg\u001b[49m\u001b[38;5;241;43m.\u001b[39;49m\u001b[43minv\u001b[49m\u001b[43m(\u001b[49m\u001b[43ma\u001b[49m\u001b[43m,\u001b[49m\u001b[43m \u001b[49m\u001b[43msignature\u001b[49m\u001b[38;5;241;43m=\u001b[39;49m\u001b[43msignature\u001b[49m\u001b[43m)\u001b[49m\n\u001b[0;32m    616\u001b[0m \u001b[38;5;28;01mreturn\u001b[39;00m wrap(ainv\u001b[38;5;241m.\u001b[39mastype(result_t, copy\u001b[38;5;241m=\u001b[39m\u001b[38;5;28;01mFalse\u001b[39;00m))\n",
      "File \u001b[1;32m~\\AppData\\Local\\Programs\\Python\\Python312\\Lib\\site-packages\\numpy\\linalg\\_linalg.py:104\u001b[0m, in \u001b[0;36m_raise_linalgerror_singular\u001b[1;34m(err, flag)\u001b[0m\n\u001b[0;32m    103\u001b[0m \u001b[38;5;28;01mdef\u001b[39;00m \u001b[38;5;21m_raise_linalgerror_singular\u001b[39m(err, flag):\n\u001b[1;32m--> 104\u001b[0m     \u001b[38;5;28;01mraise\u001b[39;00m LinAlgError(\u001b[38;5;124m\"\u001b[39m\u001b[38;5;124mSingular matrix\u001b[39m\u001b[38;5;124m\"\u001b[39m)\n",
      "\u001b[1;31mLinAlgError\u001b[0m: Singular matrix"
     ]
    }
   ],
   "source": [
    "data = {\n",
    "    \"Area\": [1500, 1800, 2400, 3000, 3600],\n",
    "    \"Bathrooms\": [2, 3, 2, 4, 3],\n",
    "    \"Bedrooms\": [3, 4, 3, 5, 4],\n",
    "    \"Price\": [300000, 350000, 400000, 500000, 600000]\n",
    "}\n",
    "df = pd.DataFrame(data)\n",
    "\n",
    "X = df[[\"Area\", \"Bathrooms\", \"Bedrooms\"]].values\n",
    "y = df[\"Price\"].values\n",
    "\n",
    "alpha = 0.01\n",
    "epochs = 1000\n",
    "w_grad_desc, losses = gradient_descent(X, y, alpha, epochs)\n",
    "\n",
    "print(\"Параметри, знайдені градієнтним спуском:\", w_grad_desc)\n",
    "\n",
    "w_analytical = analytical_solution(X, y)\n",
    "print(\"Параметри, знайдені аналітичним рішенням:\", w_analytical)\n",
    "\n",
    "model = LinearRegression()\n",
    "model.fit(X, y)\n",
    "w_sklearn = np.r_[model.intercept_, model.coef_]\n",
    "\n",
    "print(\"Параметри, знайдені за допомогою Scikit-Learn:\", w_sklearn)\n",
    "\n",
    "X_with_bias = np.c_[np.ones(X.shape[0]), X]\n",
    "\n",
    "print(\"Функція втрат (градієнтний спуск):\", loss_function(X_with_bias, y, w_grad_desc))\n",
    "print(\"Функція втрат (аналітичне рішення):\", loss_function(X_with_bias, y, w_analytical))\n",
    "print(\"Функція втрат (Scikit-Learn):\", mean_squared_error(y, model.predict(X)) / 2)"
   ]
  },
  {
   "cell_type": "code",
   "execution_count": 9,
   "id": "1605bbd4-de55-4f75-8367-b7b622ad5784",
   "metadata": {},
   "outputs": [
    {
     "data": {
      "image/png": "[encoded data removed]",
      "text/plain": [
       "<Figure size 640x480 with 1 Axes>"
      ]
     },
     "metadata": {},
     "output_type": "display_data"
    }
   ],
   "source": [
    "import matplotlib.pyplot as plt\n",
    "\n",
    "plt.plot(range(len(losses)), losses)\n",
    "plt.title(\"Функція втрат під час градієнтного спуску\")\n",
    "plt.xlabel(\"Ітерація\")\n",
    "plt.ylabel(\"MSE\")\n",
    "plt.show()"
   ]
  }
 ],
 "metadata": {
  "kernelspec": {
   "display_name": "Python 3 (ipykernel)",
   "language": "python",
   "name": "python3"
  },
  "language_info": {
   "codemirror_mode": {
    "name": "ipython",
    "version": 3
   },
   "file_extension": ".py",
   "mimetype": "text/x-python",
   "name": "python",
   "nbconvert_exporter": "python",
   "pygments_lexer": "ipython3",
   "version": "3.12.5"
  }
 },
 "nbformat": 4,
 "nbformat_minor": 5
}
