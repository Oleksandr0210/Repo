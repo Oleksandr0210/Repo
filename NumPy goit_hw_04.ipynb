{
 "cells": [
  {
   "cell_type": "code",
   "execution_count": 1,
   "id": "b0e831f4-1719-4603-b07b-cc0d9ed57aed",
   "metadata": {},
   "outputs": [],
   "source": [
    "import numpy as np"
   ]
  },
  {
   "cell_type": "code",
   "execution_count": 2,
   "id": "950e97ae-69c0-4971-b7a0-9a0bb0f0a34c",
   "metadata": {},
   "outputs": [],
   "source": [
    "vector = np.arange(1, 11)"
   ]
  },
  {
   "cell_type": "code",
   "execution_count": 3,
   "id": "628264e0-043f-4e5e-85d6-3355adbd4780",
   "metadata": {},
   "outputs": [
    {
     "data": {
      "text/plain": [
       "('Вектор:', array([ 1,  2,  3,  4,  5,  6,  7,  8,  9, 10]))"
      ]
     },
     "execution_count": 3,
     "metadata": {},
     "output_type": "execute_result"
    }
   ],
   "source": [
    "(\"Вектор:\", vector)"
   ]
  },
  {
   "cell_type": "code",
   "execution_count": 4,
   "id": "aaad40bc-0137-49bf-973f-979af7fedc20",
   "metadata": {},
   "outputs": [
    {
     "data": {
      "text/plain": [
       "('Матриця 3x3:\\n',\n",
       " array([[0., 0., 0.],\n",
       "        [0., 0., 0.],\n",
       "        [0., 0., 0.]]))"
      ]
     },
     "execution_count": 4,
     "metadata": {},
     "output_type": "execute_result"
    }
   ],
   "source": [
    "matrix_3x3 = np.zeros((3, 3))\n",
    "(\"Матриця 3x3:\\n\", matrix_3x3)"
   ]
  },
  {
   "cell_type": "code",
   "execution_count": 5,
   "id": "760a7d0d-e3f9-42da-ba8e-09a3de308485",
   "metadata": {},
   "outputs": [
    {
     "data": {
      "text/plain": [
       "('Матриця 5x5:\\n',\n",
       " array([[1, 5, 9, 5, 1],\n",
       "        [8, 9, 8, 2, 3],\n",
       "        [3, 2, 3, 6, 4],\n",
       "        [3, 1, 9, 8, 9],\n",
       "        [1, 3, 1, 5, 5]], dtype=int32))"
      ]
     },
     "execution_count": 5,
     "metadata": {},
     "output_type": "execute_result"
    }
   ],
   "source": [
    "matrix_5x5 = np.random.randint(1, 11, (5, 5))\n",
    "(\"Матриця 5x5:\\n\", matrix_5x5)"
   ]
  },
  {
   "cell_type": "code",
   "execution_count": 6,
   "id": "882ee309-60a2-4574-a042-9bfcb855eb06",
   "metadata": {},
   "outputs": [
    {
     "data": {
      "text/plain": [
       "('Матриця 4x4:\\n',\n",
       " array([[0.61240221, 0.53126598, 0.12957555, 0.03995588],\n",
       "        [0.62110553, 0.35125623, 0.77325496, 0.14342859],\n",
       "        [0.83137842, 0.12755048, 0.60553801, 0.05791097],\n",
       "        [0.84041092, 0.09408688, 0.3230451 , 0.78723545]]))"
      ]
     },
     "execution_count": 6,
     "metadata": {},
     "output_type": "execute_result"
    }
   ],
   "source": [
    "matrix_4x4 = np.random.rand(4, 4)\n",
    "(\"Матриця 4x4:\\n\", matrix_4x4)"
   ]
  },
  {
   "cell_type": "code",
   "execution_count": 7,
   "id": "de257561-934a-4704-acaa-63ef883086d0",
   "metadata": {},
   "outputs": [
    {
     "data": {
      "text/plain": [
       "('Множення:', array([70,  7, 18, 72, 50], dtype=int32))"
      ]
     },
     "execution_count": 7,
     "metadata": {},
     "output_type": "execute_result"
    }
   ],
   "source": [
    "array1 = np.random.randint(1, 11, 5)\n",
    "array2 = np.random.randint(1, 11, 5)\n",
    "\n",
    "(\"Масив 1:\", array1)\n",
    "(\"Масив 2:\", array2)\n",
    "(\"Додавання:\", array1 + array2)\n",
    "(\"Віднімання:\", array1 - array2)\n",
    "(\"Множення:\", array1 * array2)"
   ]
  },
  {
   "cell_type": "code",
   "execution_count": 8,
   "id": "97499bc5-797d-435c-a543-4ac0b636d7f1",
   "metadata": {},
   "outputs": [
    {
     "data": {
      "text/plain": [
       "('Скалярний добуток:', np.float64(2.0251158192698777))"
      ]
     },
     "execution_count": 8,
     "metadata": {},
     "output_type": "execute_result"
    }
   ],
   "source": [
    "vector1 = np.random.random(7)\n",
    "vector2 = np.random.random(7)\n",
    "\n",
    "scalar_product = np.dot(vector1, vector2)\n",
    "(\"Вектор 1:\", vector1)\n",
    "(\"Вектор 2:\", vector2)\n",
    "(\"Скалярний добуток:\", scalar_product)"
   ]
  },
  {
   "cell_type": "code",
   "execution_count": 9,
   "id": "ba7294c3-d0d0-4c76-9ee1-aef181321d16",
   "metadata": {},
   "outputs": [
    {
     "data": {
      "text/plain": [
       "('Результат множення:\\n',\n",
       " array([[130,  95,  80],\n",
       "        [170, 120, 108]], dtype=int32))"
      ]
     },
     "execution_count": 9,
     "metadata": {},
     "output_type": "execute_result"
    }
   ],
   "source": [
    "matrix1 = np.random.randint(1, 11, (2, 2))\n",
    "matrix2 = np.random.randint(1, 11, (2, 3))\n",
    "\n",
    "result = np.dot(matrix1, matrix2)\n",
    "(\"Матриця 1:\\n\", matrix1)\n",
    "(\"Матриця 2:\\n\", matrix2)\n",
    "(\"Результат множення:\\n\", result)"
   ]
  },
  {
   "cell_type": "code",
   "execution_count": 10,
   "id": "1686aa4f-2eda-4014-9701-657fc8e3cab1",
   "metadata": {},
   "outputs": [
    {
     "data": {
      "text/plain": [
       "('Обернена матриця:\\n',\n",
       " array([[-1.56097561,  1.19512195,  0.53658537],\n",
       "        [ 0.17073171, -0.14634146,  0.09756098],\n",
       "        [ 0.36585366, -0.17073171, -0.2195122 ]]))"
      ]
     },
     "execution_count": 10,
     "metadata": {},
     "output_type": "execute_result"
    }
   ],
   "source": [
    "matrix_3x3 = np.random.randint(1, 11, (3, 3))\n",
    "inverse_matrix = np.linalg.inv(matrix_3x3)\n",
    "(\"Матриця 3x3:\\n\", matrix_3x3)\n",
    "(\"Обернена матриця:\\n\", inverse_matrix)"
   ]
  },
  {
   "cell_type": "code",
   "execution_count": 11,
   "id": "ee928a50-ecb7-474a-a6d5-c89d38275c04",
   "metadata": {},
   "outputs": [
    {
     "data": {
      "text/plain": [
       "('Транспонована матриця:\\n',\n",
       " array([[0.38536903, 0.56588088, 0.70923574, 0.5584559 ],\n",
       "        [0.8167709 , 0.93259447, 0.7761147 , 0.76863717],\n",
       "        [0.79353232, 0.02863911, 0.13961507, 0.69181876],\n",
       "        [0.77687712, 0.78391431, 0.21725696, 0.90570822]]))"
      ]
     },
     "execution_count": 11,
     "metadata": {},
     "output_type": "execute_result"
    }
   ],
   "source": [
    "matrix_4x4 = np.random.rand(4, 4)\n",
    "transposed_matrix = matrix_4x4.T\n",
    "(\"Матриця 4x4:\\n\", matrix_4x4)\n",
    "(\"Транспонована матриця:\\n\", transposed_matrix)"
   ]
  },
  {
   "cell_type": "code",
   "execution_count": 12,
   "id": "ffad7faf-24ce-4f7d-96ac-e1c65c222ad9",
   "metadata": {},
   "outputs": [
    {
     "data": {
      "text/plain": [
       "('Результат множення:\\n', array([122, 150,  65], dtype=int32))"
      ]
     },
     "execution_count": 12,
     "metadata": {},
     "output_type": "execute_result"
    }
   ],
   "source": [
    "matrix_3x4 = np.random.randint(1, 11, (3, 4))\n",
    "vector = np.random.randint(1, 11, 4)\n",
    "\n",
    "result = np.dot(matrix_3x4, vector)\n",
    "(\"Матриця 3x4:\\n\", matrix_3x4)\n",
    "(\"Вектор:\\n\", vector)\n",
    "(\"Результат множення:\\n\", result)"
   ]
  }
 ],
 "metadata": {
  "kernelspec": {
   "display_name": "Python 3 (ipykernel)",
   "language": "python",
   "name": "python3"
  },
  "language_info": {
   "codemirror_mode": {
    "name": "ipython",
    "version": 3
   },
   "file_extension": ".py",
   "mimetype": "text/x-python",
   "name": "python",
   "nbconvert_exporter": "python",
   "pygments_lexer": "ipython3",
   "version": "3.12.5"
  }
 },
 "nbformat": 4,
 "nbformat_minor": 5
}
