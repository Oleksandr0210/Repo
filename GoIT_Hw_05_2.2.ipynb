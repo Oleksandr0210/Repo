{
 "cells": [
  {
   "cell_type": "code",
   "execution_count": 1,
   "id": "601b6687-7a7b-4af0-880a-34a210535006",
   "metadata": {},
   "outputs": [],
   "source": [
    "import pandas as pd\n",
    "import numpy as np"
   ]
  },
  {
   "cell_type": "code",
   "execution_count": 2,
   "id": "50f2df0d-04ff-458e-ac5a-3a62e7bb423d",
   "metadata": {},
   "outputs": [],
   "source": [
    "file_path = \"2017_jun_final.csv\"\n",
    "data = pd.read_csv(file_path, sep=',', encoding='utf-8')"
   ]
  },
  {
   "cell_type": "code",
   "execution_count": 3,
   "id": "d9da44f1-df8d-436e-bd80-5c1914841136",
   "metadata": {},
   "outputs": [
    {
     "data": {
      "text/html": [
       "<div>\n",
       "<style scoped>\n",
       "    .dataframe tbody tr th:only-of-type {\n",
       "        vertical-align: middle;\n",
       "    }\n",
       "\n",
       "    .dataframe tbody tr th {\n",
       "        vertical-align: top;\n",
       "    }\n",
       "\n",
       "    .dataframe thead th {\n",
       "        text-align: right;\n",
       "    }\n",
       "</style>\n",
       "<table border=\"1\" class=\"dataframe\">\n",
       "  <thead>\n",
       "    <tr style=\"text-align: right;\">\n",
       "      <th></th>\n",
       "      <th>N</th>\n",
       "      <th>Посада</th>\n",
       "      <th>Мова програмування</th>\n",
       "      <th>Спеціалізація</th>\n",
       "      <th>Загальний досвід роботи</th>\n",
       "      <th>Досвід роботи на поточному місці</th>\n",
       "      <th>Зарплата на місяць</th>\n",
       "      <th>Зміна зарплати за 12 місяців</th>\n",
       "      <th>Місто</th>\n",
       "      <th>Розмір компанії</th>\n",
       "      <th>...</th>\n",
       "      <th>Ще студент</th>\n",
       "      <th>Рівень англійської</th>\n",
       "      <th>Предметна область</th>\n",
       "      <th>Дата заповнення</th>\n",
       "      <th>User.Agent</th>\n",
       "      <th>exp</th>\n",
       "      <th>current_job_exp</th>\n",
       "      <th>salary</th>\n",
       "      <th>Валюта</th>\n",
       "      <th>cls</th>\n",
       "    </tr>\n",
       "  </thead>\n",
       "  <tbody>\n",
       "    <tr>\n",
       "      <th>0</th>\n",
       "      <td>1</td>\n",
       "      <td>Junior QA engineer</td>\n",
       "      <td>NaN</td>\n",
       "      <td>Manual QA</td>\n",
       "      <td>0.5</td>\n",
       "      <td>0.5</td>\n",
       "      <td>400</td>\n",
       "      <td>0</td>\n",
       "      <td>Харків</td>\n",
       "      <td>до 10 осіб</td>\n",
       "      <td>...</td>\n",
       "      <td>True</td>\n",
       "      <td>Pre-intermediate (нище середнього)</td>\n",
       "      <td>iOS,eCommerce</td>\n",
       "      <td>12/06/2017 12:38:08</td>\n",
       "      <td>Mozilla/5.0 (Windows NT 10.0; Win64; x64) Appl...</td>\n",
       "      <td>0.5</td>\n",
       "      <td>0.5</td>\n",
       "      <td>400</td>\n",
       "      <td>NaN</td>\n",
       "      <td>QA</td>\n",
       "    </tr>\n",
       "    <tr>\n",
       "      <th>1</th>\n",
       "      <td>2</td>\n",
       "      <td>Junior QA engineer</td>\n",
       "      <td>NaN</td>\n",
       "      <td>Manual QA</td>\n",
       "      <td>менше 3 місяців</td>\n",
       "      <td>менше 3 місяців</td>\n",
       "      <td>430</td>\n",
       "      <td>130</td>\n",
       "      <td>Харків</td>\n",
       "      <td>більше 1000 осіб</td>\n",
       "      <td>...</td>\n",
       "      <td>True</td>\n",
       "      <td>Upper-Intermediate (вище середнього)</td>\n",
       "      <td>Веб-розробка</td>\n",
       "      <td>12/06/2017 12:42:51</td>\n",
       "      <td>Mozilla/5.0 (iPad; CPU OS 10_2_1 like Mac OS X...</td>\n",
       "      <td>0.0</td>\n",
       "      <td>0.0</td>\n",
       "      <td>430</td>\n",
       "      <td>NaN</td>\n",
       "      <td>QA</td>\n",
       "    </tr>\n",
       "    <tr>\n",
       "      <th>2</th>\n",
       "      <td>3</td>\n",
       "      <td>Software Engineer</td>\n",
       "      <td>C#/.NET</td>\n",
       "      <td>NaN</td>\n",
       "      <td>4</td>\n",
       "      <td>1</td>\n",
       "      <td>2500</td>\n",
       "      <td>800</td>\n",
       "      <td>Київ</td>\n",
       "      <td>до 1000 осіб</td>\n",
       "      <td>...</td>\n",
       "      <td>False</td>\n",
       "      <td>Intermediate (середній)</td>\n",
       "      <td>Веб-розробка,Корпоративні системи</td>\n",
       "      <td>12/06/2017 13:02:47</td>\n",
       "      <td>Mozilla/5.0 (Windows NT 10.0; Win64; x64) Appl...</td>\n",
       "      <td>4.0</td>\n",
       "      <td>1.0</td>\n",
       "      <td>2500</td>\n",
       "      <td>NaN</td>\n",
       "      <td>DEV</td>\n",
       "    </tr>\n",
       "    <tr>\n",
       "      <th>3</th>\n",
       "      <td>4</td>\n",
       "      <td>Software Engineer</td>\n",
       "      <td>JavaScript</td>\n",
       "      <td>NaN</td>\n",
       "      <td>5</td>\n",
       "      <td>4</td>\n",
       "      <td>2000</td>\n",
       "      <td>400</td>\n",
       "      <td>Одеса</td>\n",
       "      <td>до 200 осіб</td>\n",
       "      <td>...</td>\n",
       "      <td>False</td>\n",
       "      <td>Pre-intermediate (нище середнього)</td>\n",
       "      <td>Desktop Applications,Веб-розробка</td>\n",
       "      <td>12/06/2017 13:03:01</td>\n",
       "      <td>Mozilla/5.0 (Windows NT 6.1; Win64; x64) Apple...</td>\n",
       "      <td>5.0</td>\n",
       "      <td>4.0</td>\n",
       "      <td>2000</td>\n",
       "      <td>NaN</td>\n",
       "      <td>DEV</td>\n",
       "    </tr>\n",
       "    <tr>\n",
       "      <th>4</th>\n",
       "      <td>5</td>\n",
       "      <td>Senior Software Engineer</td>\n",
       "      <td>JavaScript</td>\n",
       "      <td>NaN</td>\n",
       "      <td>10 і більше років</td>\n",
       "      <td>0.5</td>\n",
       "      <td>4500</td>\n",
       "      <td>500</td>\n",
       "      <td>Інше</td>\n",
       "      <td>до 10 осіб</td>\n",
       "      <td>...</td>\n",
       "      <td>False</td>\n",
       "      <td>Intermediate (середній)</td>\n",
       "      <td>Desktop Applications,Веб-розробка</td>\n",
       "      <td>12/06/2017 13:03:47</td>\n",
       "      <td>Mozilla/5.0 (iPhone; CPU iPhone OS 10_3_2 like...</td>\n",
       "      <td>10.0</td>\n",
       "      <td>0.5</td>\n",
       "      <td>4500</td>\n",
       "      <td>NaN</td>\n",
       "      <td>DEV</td>\n",
       "    </tr>\n",
       "  </tbody>\n",
       "</table>\n",
       "<p>5 rows × 25 columns</p>\n",
       "</div>"
      ],
      "text/plain": [
       "   N                    Посада Мова програмування Спеціалізація  \\\n",
       "0  1        Junior QA engineer                NaN     Manual QA   \n",
       "1  2        Junior QA engineer                NaN     Manual QA   \n",
       "2  3         Software Engineer            C#/.NET           NaN   \n",
       "3  4         Software Engineer         JavaScript           NaN   \n",
       "4  5  Senior Software Engineer         JavaScript           NaN   \n",
       "\n",
       "  Загальний досвід роботи Досвід роботи на поточному місці  \\\n",
       "0                     0.5                              0.5   \n",
       "1         менше 3 місяців                  менше 3 місяців   \n",
       "2                       4                                1   \n",
       "3                       5                                4   \n",
       "4       10 і більше років                              0.5   \n",
       "\n",
       "   Зарплата на місяць  Зміна зарплати за 12 місяців   Місто   Розмір компанії  \\\n",
       "0                 400                             0  Харків        до 10 осіб   \n",
       "1                 430                           130  Харків  більше 1000 осіб   \n",
       "2                2500                           800    Київ      до 1000 осіб   \n",
       "3                2000                           400   Одеса       до 200 осіб   \n",
       "4                4500                           500    Інше        до 10 осіб   \n",
       "\n",
       "   ... Ще студент                    Рівень англійської  \\\n",
       "0  ...       True    Pre-intermediate (нище середнього)   \n",
       "1  ...       True  Upper-Intermediate (вище середнього)   \n",
       "2  ...      False               Intermediate (середній)   \n",
       "3  ...      False    Pre-intermediate (нище середнього)   \n",
       "4  ...      False               Intermediate (середній)   \n",
       "\n",
       "                   Предметна область      Дата заповнення  \\\n",
       "0                      iOS,eCommerce  12/06/2017 12:38:08   \n",
       "1                       Веб-розробка  12/06/2017 12:42:51   \n",
       "2  Веб-розробка,Корпоративні системи  12/06/2017 13:02:47   \n",
       "3  Desktop Applications,Веб-розробка  12/06/2017 13:03:01   \n",
       "4  Desktop Applications,Веб-розробка  12/06/2017 13:03:47   \n",
       "\n",
       "                                          User.Agent   exp current_job_exp  \\\n",
       "0  Mozilla/5.0 (Windows NT 10.0; Win64; x64) Appl...   0.5             0.5   \n",
       "1  Mozilla/5.0 (iPad; CPU OS 10_2_1 like Mac OS X...   0.0             0.0   \n",
       "2  Mozilla/5.0 (Windows NT 10.0; Win64; x64) Appl...   4.0             1.0   \n",
       "3  Mozilla/5.0 (Windows NT 6.1; Win64; x64) Apple...   5.0             4.0   \n",
       "4  Mozilla/5.0 (iPhone; CPU iPhone OS 10_3_2 like...  10.0             0.5   \n",
       "\n",
       "  salary Валюта  cls  \n",
       "0    400    NaN   QA  \n",
       "1    430    NaN   QA  \n",
       "2   2500    NaN  DEV  \n",
       "3   2000    NaN  DEV  \n",
       "4   4500    NaN  DEV  \n",
       "\n",
       "[5 rows x 25 columns]"
      ]
     },
     "execution_count": 3,
     "metadata": {},
     "output_type": "execute_result"
    }
   ],
   "source": [
    "(\"Перші рядки таблиці:\")\n",
    "(data.head())"
   ]
  },
  {
   "cell_type": "code",
   "execution_count": 4,
   "id": "4488189e-b9a9-4425-8597-0ecd8e87fc64",
   "metadata": {},
   "outputs": [
    {
     "data": {
      "text/plain": [
       "('Розмір таблиці (рядки, стовпці):', (8704, 25))"
      ]
     },
     "execution_count": 4,
     "metadata": {},
     "output_type": "execute_result"
    }
   ],
   "source": [
    "(\"Розмір таблиці (рядки, стовпці):\", data.shape)"
   ]
  },
  {
   "cell_type": "code",
   "execution_count": 5,
   "id": "a2ef95d4-c6de-4acd-949f-7f692e90ec70",
   "metadata": {},
   "outputs": [
    {
     "data": {
      "text/plain": [
       "N                                     int64\n",
       "Посада                               object\n",
       "Мова програмування                   object\n",
       "Спеціалізація                        object\n",
       "Загальний досвід роботи              object\n",
       "Досвід роботи на поточному місці     object\n",
       "Зарплата на місяць                    int64\n",
       "Зміна зарплати за 12 місяців          int64\n",
       "Місто                                object\n",
       "Розмір компанії                      object\n",
       "Тип компанії                         object\n",
       "Стать                                object\n",
       "Вік                                   int64\n",
       "Освіта                               object\n",
       "Університет                          object\n",
       "Ще студент                             bool\n",
       "Рівень англійської                   object\n",
       "Предметна область                    object\n",
       "Дата заповнення                      object\n",
       "User.Agent                           object\n",
       "exp                                 float64\n",
       "current_job_exp                     float64\n",
       "salary                                int64\n",
       "Валюта                               object\n",
       "cls                                  object\n",
       "dtype: object"
      ]
     },
     "execution_count": 5,
     "metadata": {},
     "output_type": "execute_result"
    }
   ],
   "source": [
    "(\"Типи даних у стовпцях:\")\n",
    "(data.dtypes)"
   ]
  },
  {
   "cell_type": "code",
   "execution_count": 6,
   "id": "4e73b596-e30d-4c5f-a8cd-f3c92b72ff93",
   "metadata": {},
   "outputs": [
    {
     "data": {
      "text/plain": [
       "N                                   0.000000\n",
       "Посада                              0.000000\n",
       "Мова програмування                  0.442325\n",
       "Спеціалізація                       0.829389\n",
       "Загальний досвід роботи             0.000000\n",
       "Досвід роботи на поточному місці    0.000000\n",
       "Зарплата на місяць                  0.000000\n",
       "Зміна зарплати за 12 місяців        0.000000\n",
       "Місто                               0.000000\n",
       "Розмір компанії                     0.000000\n",
       "Тип компанії                        0.000000\n",
       "Стать                               0.000000\n",
       "Вік                                 0.000000\n",
       "Освіта                              0.000000\n",
       "Університет                         0.041131\n",
       "Ще студент                          0.000000\n",
       "Рівень англійської                  0.000000\n",
       "Предметна область                   0.025620\n",
       "Дата заповнення                     0.000000\n",
       "User.Agent                          0.000000\n",
       "exp                                 0.000000\n",
       "current_job_exp                     0.000000\n",
       "salary                              0.000000\n",
       "Валюта                              0.998851\n",
       "cls                                 0.180836\n",
       "dtype: float64"
      ]
     },
     "execution_count": 6,
     "metadata": {},
     "output_type": "execute_result"
    }
   ],
   "source": [
    "missing_share = data.isnull().sum() / len(data)\n",
    "(\"Частка пропусків у кожній колонці:\")\n",
    "(missing_share)"
   ]
  },
  {
   "cell_type": "code",
   "execution_count": 7,
   "id": "fef17dfa-d554-4c6c-aa6a-c61f9baa89a2",
   "metadata": {},
   "outputs": [],
   "source": [
    "columns_to_keep = [\"Мова програмування\"]\n",
    "data_cleaned = data[columns_to_keep].copy()"
   ]
  },
  {
   "cell_type": "code",
   "execution_count": 8,
   "id": "78d5931c-1cfa-4d7c-8366-4c9c90f780f5",
   "metadata": {},
   "outputs": [
    {
     "data": {
      "text/plain": [
       "Мова програмування    0.442325\n",
       "dtype: float64"
      ]
     },
     "execution_count": 8,
     "metadata": {},
     "output_type": "execute_result"
    }
   ],
   "source": [
    "(\"Частка пропусків у залишеній колонці:\")\n",
    "(data_cleaned.isnull().sum() / len(data_cleaned))"
   ]
  },
  {
   "cell_type": "code",
   "execution_count": 9,
   "id": "6ff6a50a-b098-4f89-bedd-82d6250b6af7",
   "metadata": {},
   "outputs": [],
   "source": [
    "data_cleaned.dropna(inplace=True)"
   ]
  },
  {
   "cell_type": "code",
   "execution_count": 10,
   "id": "0488b52f-0826-4112-865d-a464bd68ee1b",
   "metadata": {},
   "outputs": [
    {
     "data": {
      "text/plain": [
       "('Розмір очищеної таблиці (рядки, стовпці):', (4854, 1))"
      ]
     },
     "execution_count": 10,
     "metadata": {},
     "output_type": "execute_result"
    }
   ],
   "source": [
    "(\"Розмір очищеної таблиці (рядки, стовпці):\", data_cleaned.shape)"
   ]
  },
  {
   "cell_type": "code",
   "execution_count": 11,
   "id": "93986f6a-97c8-4fb5-9876-14406586a747",
   "metadata": {},
   "outputs": [
    {
     "data": {
      "text/plain": [
       "('Розмір таблиці з Python:', (207, 1))"
      ]
     },
     "execution_count": 11,
     "metadata": {},
     "output_type": "execute_result"
    }
   ],
   "source": [
    "python_data = data_cleaned[data_cleaned[\"Мова програмування\"].str.contains(\"Python\", na=False)]\n",
    "(\"Розмір таблиці з Python:\", python_data.shape)"
   ]
  },
  {
   "cell_type": "code",
   "execution_count": 18,
   "id": "b300ea08-4206-4d6f-8504-092992943492",
   "metadata": {},
   "outputs": [],
   "source": [
    "grouped = data.groupby(\"Посада\")"
   ]
  },
  {
   "cell_type": "code",
   "execution_count": 17,
   "id": "f8782d1c-9bc8-47af-8d2e-191ddbb3a9f0",
   "metadata": {},
   "outputs": [
    {
     "ename": "KeyError",
     "evalue": "'Column not found: Зарплата.в.місяць'",
     "output_type": "error",
     "traceback": [
      "\u001b[1;31m---------------------------------------------------------------------------\u001b[0m",
      "\u001b[1;31mKeyError\u001b[0m                                  Traceback (most recent call last)",
      "Cell \u001b[1;32mIn[17], line 1\u001b[0m\n\u001b[1;32m----> 1\u001b[0m salary_stats \u001b[38;5;241m=\u001b[39m \u001b[43mgrouped\u001b[49m\u001b[43m[\u001b[49m\u001b[38;5;124;43m\"\u001b[39;49m\u001b[38;5;124;43mЗарплата.в.місяць\u001b[39;49m\u001b[38;5;124;43m\"\u001b[39;49m\u001b[43m]\u001b[49m\u001b[38;5;241m.\u001b[39magg([\u001b[38;5;124m\"\u001b[39m\u001b[38;5;124mmin\u001b[39m\u001b[38;5;124m\"\u001b[39m, \u001b[38;5;124m\"\u001b[39m\u001b[38;5;124mmax\u001b[39m\u001b[38;5;124m\"\u001b[39m])\n\u001b[0;32m      2\u001b[0m (\u001b[38;5;124m\"\u001b[39m\u001b[38;5;124mСтатистика по зарплатах за Посадами:\u001b[39m\u001b[38;5;124m\"\u001b[39m)\n\u001b[0;32m      3\u001b[0m (salary_stats)\n",
      "File \u001b[1;32m~\\AppData\\Local\\Programs\\Python\\Python312\\Lib\\site-packages\\pandas\\core\\groupby\\generic.py:1951\u001b[0m, in \u001b[0;36mDataFrameGroupBy.__getitem__\u001b[1;34m(self, key)\u001b[0m\n\u001b[0;32m   1944\u001b[0m \u001b[38;5;28;01mif\u001b[39;00m \u001b[38;5;28misinstance\u001b[39m(key, \u001b[38;5;28mtuple\u001b[39m) \u001b[38;5;129;01mand\u001b[39;00m \u001b[38;5;28mlen\u001b[39m(key) \u001b[38;5;241m>\u001b[39m \u001b[38;5;241m1\u001b[39m:\n\u001b[0;32m   1945\u001b[0m     \u001b[38;5;66;03m# if len == 1, then it becomes a SeriesGroupBy and this is actually\u001b[39;00m\n\u001b[0;32m   1946\u001b[0m     \u001b[38;5;66;03m# valid syntax, so don't raise\u001b[39;00m\n\u001b[0;32m   1947\u001b[0m     \u001b[38;5;28;01mraise\u001b[39;00m \u001b[38;5;167;01mValueError\u001b[39;00m(\n\u001b[0;32m   1948\u001b[0m         \u001b[38;5;124m\"\u001b[39m\u001b[38;5;124mCannot subset columns with a tuple with more than one element. \u001b[39m\u001b[38;5;124m\"\u001b[39m\n\u001b[0;32m   1949\u001b[0m         \u001b[38;5;124m\"\u001b[39m\u001b[38;5;124mUse a list instead.\u001b[39m\u001b[38;5;124m\"\u001b[39m\n\u001b[0;32m   1950\u001b[0m     )\n\u001b[1;32m-> 1951\u001b[0m \u001b[38;5;28;01mreturn\u001b[39;00m \u001b[38;5;28;43msuper\u001b[39;49m\u001b[43m(\u001b[49m\u001b[43m)\u001b[49m\u001b[38;5;241;43m.\u001b[39;49m\u001b[38;5;21;43m__getitem__\u001b[39;49m\u001b[43m(\u001b[49m\u001b[43mkey\u001b[49m\u001b[43m)\u001b[49m\n",
      "File \u001b[1;32m~\\AppData\\Local\\Programs\\Python\\Python312\\Lib\\site-packages\\pandas\\core\\base.py:244\u001b[0m, in \u001b[0;36mSelectionMixin.__getitem__\u001b[1;34m(self, key)\u001b[0m\n\u001b[0;32m    242\u001b[0m \u001b[38;5;28;01melse\u001b[39;00m:\n\u001b[0;32m    243\u001b[0m     \u001b[38;5;28;01mif\u001b[39;00m key \u001b[38;5;129;01mnot\u001b[39;00m \u001b[38;5;129;01min\u001b[39;00m \u001b[38;5;28mself\u001b[39m\u001b[38;5;241m.\u001b[39mobj:\n\u001b[1;32m--> 244\u001b[0m         \u001b[38;5;28;01mraise\u001b[39;00m \u001b[38;5;167;01mKeyError\u001b[39;00m(\u001b[38;5;124mf\u001b[39m\u001b[38;5;124m\"\u001b[39m\u001b[38;5;124mColumn not found: \u001b[39m\u001b[38;5;132;01m{\u001b[39;00mkey\u001b[38;5;132;01m}\u001b[39;00m\u001b[38;5;124m\"\u001b[39m)\n\u001b[0;32m    245\u001b[0m     ndim \u001b[38;5;241m=\u001b[39m \u001b[38;5;28mself\u001b[39m\u001b[38;5;241m.\u001b[39mobj[key]\u001b[38;5;241m.\u001b[39mndim\n\u001b[0;32m    246\u001b[0m     \u001b[38;5;28;01mreturn\u001b[39;00m \u001b[38;5;28mself\u001b[39m\u001b[38;5;241m.\u001b[39m_gotitem(key, ndim\u001b[38;5;241m=\u001b[39mndim)\n",
      "\u001b[1;31mKeyError\u001b[0m: 'Column not found: Зарплата.в.місяць'"
     ]
    }
   ],
   "source": [
    "salary_stats = grouped[\"Зарплата.в.місяць\"].agg([\"min\", \"max\"])\n",
    "(\"Статистика по зарплатах за Посадами:\")\n",
    "(salary_stats)"
   ]
  },
  {
   "cell_type": "code",
   "execution_count": 14,
   "id": "292c0481-0363-491b-8ac7-e2e0b3b6210c",
   "metadata": {},
   "outputs": [
    {
     "ename": "NameError",
     "evalue": "name 'salary_stats' is not defined",
     "output_type": "error",
     "traceback": [
      "\u001b[1;31m---------------------------------------------------------------------------\u001b[0m",
      "\u001b[1;31mNameError\u001b[0m                                 Traceback (most recent call last)",
      "Cell \u001b[1;32mIn[14], line 4\u001b[0m\n\u001b[0;32m      1\u001b[0m \u001b[38;5;28;01mdef\u001b[39;00m \u001b[38;5;21mfill_avg_salary\u001b[39m(row):\n\u001b[0;32m      2\u001b[0m     \u001b[38;5;28;01mreturn\u001b[39;00m (row[\u001b[38;5;124m\"\u001b[39m\u001b[38;5;124mmin\u001b[39m\u001b[38;5;124m\"\u001b[39m] \u001b[38;5;241m+\u001b[39m row[\u001b[38;5;124m\"\u001b[39m\u001b[38;5;124mmax\u001b[39m\u001b[38;5;124m\"\u001b[39m]) \u001b[38;5;241m/\u001b[39m \u001b[38;5;241m2\u001b[39m\n\u001b[1;32m----> 4\u001b[0m salary_stats[\u001b[38;5;124m\"\u001b[39m\u001b[38;5;124mavg\u001b[39m\u001b[38;5;124m\"\u001b[39m] \u001b[38;5;241m=\u001b[39m \u001b[43msalary_stats\u001b[49m\u001b[38;5;241m.\u001b[39mapply(fill_avg_salary, axis\u001b[38;5;241m=\u001b[39m\u001b[38;5;241m1\u001b[39m)\n",
      "\u001b[1;31mNameError\u001b[0m: name 'salary_stats' is not defined"
     ]
    }
   ],
   "source": [
    "def fill_avg_salary(row):\n",
    "    return (row[\"min\"] + row[\"max\"]) / 2\n",
    "\n",
    "salary_stats[\"avg\"] = salary_stats.apply(fill_avg_salary, axis=1)"
   ]
  },
  {
   "cell_type": "code",
   "execution_count": 15,
   "id": "86795fb9-5480-4942-9be2-70dcb656d566",
   "metadata": {},
   "outputs": [
    {
     "ename": "NameError",
     "evalue": "name 'salary_stats' is not defined",
     "output_type": "error",
     "traceback": [
      "\u001b[1;31m---------------------------------------------------------------------------\u001b[0m",
      "\u001b[1;31mNameError\u001b[0m                                 Traceback (most recent call last)",
      "Cell \u001b[1;32mIn[15], line 2\u001b[0m\n\u001b[0;32m      1\u001b[0m (\u001b[38;5;124m\"\u001b[39m\u001b[38;5;124mОписова статистика для середньої зарплати:\u001b[39m\u001b[38;5;124m\"\u001b[39m)\n\u001b[1;32m----> 2\u001b[0m (\u001b[43msalary_stats\u001b[49m[\u001b[38;5;124m\"\u001b[39m\u001b[38;5;124mavg\u001b[39m\u001b[38;5;124m\"\u001b[39m]\u001b[38;5;241m.\u001b[39mdescribe())\n",
      "\u001b[1;31mNameError\u001b[0m: name 'salary_stats' is not defined"
     ]
    }
   ],
   "source": [
    "(\"Описова статистика для середньої зарплати:\")\n",
    "(salary_stats[\"avg\"].describe())"
   ]
  },
  {
   "cell_type": "code",
   "execution_count": 16,
   "id": "a9d19907-1df5-4967-92c7-54f07b821e8d",
   "metadata": {},
   "outputs": [
    {
     "ename": "NameError",
     "evalue": "name 'salary_stats' is not defined",
     "output_type": "error",
     "traceback": [
      "\u001b[1;31m---------------------------------------------------------------------------\u001b[0m",
      "\u001b[1;31mNameError\u001b[0m                                 Traceback (most recent call last)",
      "Cell \u001b[1;32mIn[16], line 2\u001b[0m\n\u001b[0;32m      1\u001b[0m output_file \u001b[38;5;241m=\u001b[39m \u001b[38;5;124m\"\u001b[39m\u001b[38;5;124mpython_salary_stats.csv\u001b[39m\u001b[38;5;124m\"\u001b[39m\n\u001b[1;32m----> 2\u001b[0m \u001b[43msalary_stats\u001b[49m\u001b[38;5;241m.\u001b[39mto_csv(output_file, encoding\u001b[38;5;241m=\u001b[39m\u001b[38;5;124m'\u001b[39m\u001b[38;5;124mutf-8\u001b[39m\u001b[38;5;124m'\u001b[39m, index\u001b[38;5;241m=\u001b[39m\u001b[38;5;28;01mTrue\u001b[39;00m)\n\u001b[0;32m      3\u001b[0m (\u001b[38;5;124mf\u001b[39m\u001b[38;5;124m\"\u001b[39m\u001b[38;5;124mТаблицю збережено у файл: \u001b[39m\u001b[38;5;132;01m{\u001b[39;00moutput_file\u001b[38;5;132;01m}\u001b[39;00m\u001b[38;5;124m\"\u001b[39m)\n",
      "\u001b[1;31mNameError\u001b[0m: name 'salary_stats' is not defined"
     ]
    }
   ],
   "source": [
    "output_file = \"python_salary_stats.csv\"\n",
    "salary_stats.to_csv(output_file, encoding='utf-8', index=True)\n",
    "(f\"Таблицю збережено у файл: {output_file}\")"
   ]
  }
 ],
 "metadata": {
  "kernelspec": {
   "display_name": "Python 3 (ipykernel)",
   "language": "python",
   "name": "python3"
  },
  "language_info": {
   "codemirror_mode": {
    "name": "ipython",
    "version": 3
   },
   "file_extension": ".py",
   "mimetype": "text/x-python",
   "name": "python",
   "nbconvert_exporter": "python",
   "pygments_lexer": "ipython3",
   "version": "3.12.5"
  }
 },
 "nbformat": 4,
 "nbformat_minor": 5
}
