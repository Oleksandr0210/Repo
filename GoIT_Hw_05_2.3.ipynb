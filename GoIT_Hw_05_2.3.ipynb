{
 "cells": [
  {
   "cell_type": "code",
   "execution_count": 16,
   "id": "b36902ea-f18e-4273-bcbe-504ea72d276d",
   "metadata": {},
   "outputs": [],
   "source": [
    "import pandas as pd\n",
    "import numpy as np\n",
    "import matplotlib.pyplot as plt"
   ]
  },
  {
   "cell_type": "code",
   "execution_count": 8,
   "id": "0e85984f-a014-4d90-9b68-312f48018e66",
   "metadata": {},
   "outputs": [],
   "source": [
    "file_path = \"top_50_books.csv\"\n",
    "df = pd.read_csv(file_path)"
   ]
  },
  {
   "cell_type": "code",
   "execution_count": 7,
   "id": "4e1912f0-50b4-4434-9db0-f0f61b65b3f4",
   "metadata": {},
   "outputs": [
    {
     "data": {
      "text/plain": [
       "'Відповідь: Датасет зберігає дані про 550 книг.'"
      ]
     },
     "execution_count": 7,
     "metadata": {},
     "output_type": "execute_result"
    }
   ],
   "source": [
    "(df.head())\n",
    "(\"Розміри датасету:\", df.shape)\n",
    "(f\"Відповідь: Датасет зберігає дані про {df.shape[0]} книг.\")"
   ]
  },
  {
   "cell_type": "code",
   "execution_count": 9,
   "id": "a9602076-703b-4b3a-bfef-a1f883791358",
   "metadata": {},
   "outputs": [
    {
     "data": {
      "text/plain": [
       "('Нові назви колонок:',\n",
       " Index(['name', 'author', 'user_rating', 'reviews', 'price', 'year', 'genre'], dtype='object'))"
      ]
     },
     "execution_count": 9,
     "metadata": {},
     "output_type": "execute_result"
    }
   ],
   "source": [
    "df.columns = ['name', 'author', 'user_rating', 'reviews', 'price', 'year', 'genre']\n",
    "(\"Нові назви колонок:\", df.columns)"
   ]
  },
  {
   "cell_type": "code",
   "execution_count": 10,
   "id": "b91f4ad5-73b2-4a15-aaa5-69fbbc433361",
   "metadata": {},
   "outputs": [
    {
     "data": {
      "text/plain": [
       "('Відповідь:', 'Ні')"
      ]
     },
     "execution_count": 10,
     "metadata": {},
     "output_type": "execute_result"
    }
   ],
   "source": [
    "missing_data = df.isna().sum()\n",
    "(\"Кількість пропусків у кожному стовпці:\")\n",
    "(missing_data)\n",
    "(\"Відповідь:\", \"Так\" if missing_data.sum() > 0 else \"Ні\")"
   ]
  },
  {
   "cell_type": "code",
   "execution_count": 11,
   "id": "7a628ac7-a9cb-44d9-879c-8b69c9eeed7f",
   "metadata": {},
   "outputs": [
    {
     "data": {
      "text/plain": [
       "('Відповідь:', array(['Non Fiction', 'Fiction'], dtype=object))"
      ]
     },
     "execution_count": 11,
     "metadata": {},
     "output_type": "execute_result"
    }
   ],
   "source": [
    "unique_genres = df['genre'].unique()\n",
    "(\"Унікальні жанри:\", unique_genres)\n",
    "(\"Відповідь:\", unique_genres)"
   ]
  },
  {
   "cell_type": "code",
   "execution_count": 12,
   "id": "a9db03b2-06f1-4926-a24f-97c0a271cabf",
   "metadata": {},
   "outputs": [
    {
     "data": {
      "image/png": "[encoded data removed]",
      "text/plain": [
       "<Figure size 640x480 with 1 Axes>"
      ]
     },
     "metadata": {},
     "output_type": "display_data"
    },
    {
     "data": {
      "text/plain": [
       "'Відповідь: Медіанна ціна: 11.0'"
      ]
     },
     "execution_count": 12,
     "metadata": {},
     "output_type": "execute_result"
    }
   ],
   "source": [
    "df['price'].plot(kind='hist', bins=10, title='Розподіл цін')\n",
    "plt.xlabel('Ціна')\n",
    "plt.ylabel('Кількість')\n",
    "plt.show()\n",
    "\n",
    "max_price = df['price'].max()\n",
    "min_price = df['price'].min()\n",
    "mean_price = df['price'].mean()\n",
    "median_price = df['price'].median()\n",
    "\n",
    "(f\"Відповідь: Максимальна ціна: {max_price}\")\n",
    "(f\"Відповідь: Мінімальна ціна: {min_price}\")\n",
    "(f\"Відповідь: Середня ціна: {mean_price:.2f}\")\n",
    "(f\"Відповідь: Медіанна ціна: {median_price}\")"
   ]
  },
  {
   "cell_type": "code",
   "execution_count": 13,
   "id": "67d9350c-e64a-4bfc-9bb5-e5c0d6d09bbf",
   "metadata": {},
   "outputs": [
    {
     "data": {
      "text/plain": [
       "'Відповідь: 1'"
      ]
     },
     "execution_count": 13,
     "metadata": {},
     "output_type": "execute_result"
    }
   ],
   "source": [
    "highest_rating = df['user_rating'].max()\n",
    "books_with_highest_rating = df[df['user_rating'] == highest_rating]\n",
    "(\"Книги з найвищим рейтингом:\")\n",
    "(books_with_highest_rating)\n",
    "\n",
    "(f\"Відповідь: {highest_rating}\")\n",
    "\n",
    "(f\"Відповідь: {books_with_highest_rating.shape[0]}\")\n",
    "\n",
    "most_reviews = df['reviews'].max()\n",
    "book_most_reviews = df[df['reviews'] == most_reviews]\n",
    "(\"Книга з найбільшою кількістю відгуків:\")\n",
    "(book_most_reviews)\n",
    "\n",
    "(f\"Відповідь: {book_most_reviews['name'].iloc[0]}\")\n",
    "\n",
    "most_expensive_2015 = df[df['year'] == 2015].sort_values('price', ascending=False).iloc[0]\n",
    "(\"Найдорожча книга 2015 року:\")\n",
    "(most_expensive_2015)\n",
    "\n",
    "(f\"Відповідь: {most_expensive_2015['name']}\")\n",
    "\n",
    "fiction_2010 = df[(df['genre'] == 'Fiction') & (df['year'] == 2010)]\n",
    "(\"Кількість книг жанру Fiction у 2010 році:\", fiction_2010.shape[0])\n",
    "\n",
    "(f\"Відповідь: {fiction_2010.shape[0]}\")\n",
    "\n",
    "books_4_9 = df[(df['user_rating'] == 4.9) & (df['year'].isin([2010, 2011]))]\n",
    "(\"Книги з рейтингом 4.9 у 2010 та 2011 роках:\")\n",
    "(books_4_9)\n",
    "\n",
    "(f\"Відповідь: {books_4_9.shape[0]}\")"
   ]
  },
  {
   "cell_type": "code",
   "execution_count": 14,
   "id": "280b54cc-16f7-4f92-a159-0425e61c7ccd",
   "metadata": {},
   "outputs": [
    {
     "data": {
      "text/plain": [
       "'Мінімальна ціна для Non Fiction: 0'"
      ]
     },
     "execution_count": 14,
     "metadata": {},
     "output_type": "execute_result"
    }
   ],
   "source": [
    "price_stats = df.groupby('genre')['price'].agg(['min', 'max'])\n",
    "(\"Статистика цін за жанрами:\")\n",
    "(price_stats)\n",
    "\n",
    "(f\"Максимальна ціна для Fiction: {price_stats.loc['Fiction', 'max']}\")\n",
    "(f\"Мінімальна ціна для Fiction: {price_stats.loc['Fiction', 'min']}\")\n",
    "(f\"Максимальна ціна для Non Fiction: {price_stats.loc['Non Fiction', 'max']}\")\n",
    "(f\"Мінімальна ціна для Non Fiction: {price_stats.loc['Non Fiction', 'min']}\")"
   ]
  },
  {
   "cell_type": "code",
   "execution_count": 15,
   "id": "91e163b4-84a2-4395-b09f-5c8d0c9c3a9e",
   "metadata": {},
   "outputs": [
    {
     "data": {
      "text/plain": [
       "'Середній рейтинг цього автора: 3.9'"
      ]
     },
     "execution_count": 15,
     "metadata": {},
     "output_type": "execute_result"
    }
   ],
   "source": [
    "author_books = df.groupby('author')['name'].count()\n",
    "(\"Кількість книг для кожного автора:\")\n",
    "(author_books)\n",
    "\n",
    "top_author = author_books.idxmax()\n",
    "(f\"Автор із найбільшою кількістю книг: {top_author}\")\n",
    "(f\"Кількість книг цього автора: {author_books.max()}\")\n",
    "\n",
    "author_avg_rating = df.groupby('author')['user_rating'].mean()\n",
    "(\"Середній рейтинг для кожного автора:\")\n",
    "(author_avg_rating)\n",
    "\n",
    "min_rating_author = author_avg_rating.idxmin()\n",
    "(f\"Автор із мінімальним рейтингом: {min_rating_author}\")\n",
    "(f\"Середній рейтинг цього автора: {author_avg_rating.min()}\")"
   ]
  },
  {
   "cell_type": "code",
   "execution_count": 16,
   "id": "77398e4d-2308-4a94-9b24-11ba81ce010c",
   "metadata": {},
   "outputs": [
    {
     "data": {
      "text/plain": [
       "'Перший автор у списку: Muriel Barbery'"
      ]
     },
     "execution_count": 16,
     "metadata": {},
     "output_type": "execute_result"
    }
   ],
   "source": [
    "authors_summary = pd.concat([author_books, author_avg_rating], axis=1)\n",
    "authors_summary.columns = ['book_count', 'avg_rating']\n",
    "(\"Об'єднана таблиця:\")\n",
    "(authors_summary)\n",
    "\n",
    "sorted_authors = authors_summary.sort_values(by=['book_count', 'avg_rating'])\n",
    "(\"Відсортовані автори:\")\n",
    "(sorted_authors)\n",
    "\n",
    "(f\"Перший автор у списку: {sorted_authors.index[0]}\")"
   ]
  }
 ],
 "metadata": {
  "kernelspec": {
   "display_name": "Python 3 (ipykernel)",
   "language": "python",
   "name": "python3"
  },
  "language_info": {
   "codemirror_mode": {
    "name": "ipython",
    "version": 3
   },
   "file_extension": ".py",
   "mimetype": "text/x-python",
   "name": "python",
   "nbconvert_exporter": "python",
   "pygments_lexer": "ipython3",
   "version": "3.12.5"
  }
 },
 "nbformat": 4,
 "nbformat_minor": 5
}
